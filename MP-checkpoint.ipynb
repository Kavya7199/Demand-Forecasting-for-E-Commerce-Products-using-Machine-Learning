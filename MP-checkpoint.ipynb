{
 "cells": [
  {
   "cell_type": "code",
   "execution_count": null,
   "id": "49bbcbaa",
   "metadata": {},
   "outputs": [],
   "source": [
    "# Import the required Libraries\n",
    "import pandas as pd\n",
    "import numpy as np\n",
    "\n",
    "# Import data visualization libraries\n",
    "import matplotlib.pyplot as plt\n",
    "import seaborn as sns\n",
    "\n",
    "# Import libraries to split the dataset into train data and test data\n",
    "import sklearn\n",
    "from sklearn.model_selection import train_test_split\n",
    "\n",
    "# Import libraries for rescaling the features\n",
    "from sklearn.preprocessing import MinMaxScaler, LabelEncoder\n",
    "from sklearn.preprocessing import StandardScaler\n",
    "\n",
    "from sklearn.linear_model import LinearRegression\n",
    "from sklearn.metrics import r2_score, mean_squared_error, mean_absolute_error\n",
    "import statsmodels.api as sm\n",
    "from statsmodels.stats.outliers_influence import variance_inflation_factor\n",
    "from sklearn.model_selection import GridSearchCV\n",
    "import sklearn.metrics as metrics\n",
    "from sklearn.feature_selection import RFE\n",
    "from sklearn.tree import DecisionTreeRegressor\n",
    "from sklearn.neighbors import KNeighborsRegressor\n",
    "from sklearn.ensemble import RandomForestRegressor\n",
    "import xgboost as xgb\n",
    "from xgboost.sklearn import XGBRegressor\n",
    "from sklearn.svm import SVR\n",
    "\n",
    "from keras.models import Sequential\n",
    "from keras.layers import Dense, LSTM\n",
    "from keras.layers import Dropout\n",
    "\n",
    "from scipy.sparse import csr_matrix\n",
    "\n",
    "# Import stats to check skew and kurtosis\n",
    "from scipy import stats\n",
    "\n",
    "# Import library to ignore the warnings\n",
    "import warnings\n",
    "warnings.filterwarnings('ignore')\n",
    "\n",
    "import os\n",
    "os.environ['TF_CPP_MIN_LOG_LEVEL'] = '3'"
   ]
  },
  {
   "cell_type": "code",
   "execution_count": null,
   "id": "aa4764f3",
   "metadata": {},
   "outputs": [],
   "source": [
    "# Dataset Link: https://www.kaggle.com/datasets/lokeshparab/amazon-products-dataset/\n",
    "# From all the datasets, I chose Amazon-Products.csv as it contains all types of products in a single dataset.\n",
    "# Read the dataset\n",
    "ecom_data = pd.read_csv('Amazon-Products.csv')\n",
    "ecom_data.head()"
   ]
  },
  {
   "cell_type": "code",
   "execution_count": null,
   "id": "4d2931e3",
   "metadata": {},
   "outputs": [],
   "source": [
    "# Check the shape of the dataset\n",
    "ecom_data.shape"
   ]
  },
  {
   "cell_type": "code",
   "execution_count": null,
   "id": "80bcd7f2",
   "metadata": {},
   "outputs": [],
   "source": [
    "# Check the datatypes and missing values in the dataset\n",
    "ecom_data.info()"
   ]
  },
  {
   "cell_type": "code",
   "execution_count": null,
   "id": "7869c62e",
   "metadata": {},
   "outputs": [],
   "source": [
    "# Dropping the columns which are having unique values\n",
    "ecom_data.drop(['Unnamed: 0'], axis=1, inplace=True)\n",
    "ecom_data.head()"
   ]
  },
  {
   "cell_type": "code",
   "execution_count": null,
   "id": "f86edd46",
   "metadata": {},
   "outputs": [],
   "source": [
    "# Remove the Rupee symbol from the columns for easy calculation\n",
    "ecom_data['actual_price'] = ecom_data['actual_price'].str.replace('₹','')\n",
    "ecom_data['discount_price'] = ecom_data['discount_price'].str.replace('₹','')"
   ]
  },
  {
   "cell_type": "code",
   "execution_count": null,
   "id": "7169f816",
   "metadata": {},
   "outputs": [],
   "source": [
    "# Check the missing value percentage\n",
    "round(100*((ecom_data.isnull().sum())/ecom_data.shape[0]).sort_values(ascending=False),2)"
   ]
  },
  {
   "cell_type": "code",
   "execution_count": null,
   "id": "a23bc1c5",
   "metadata": {},
   "outputs": [],
   "source": [
    "# Now analyse all the values in the ratings column and replace them with null value\n",
    "ecom_data['ratings'] = np.where(ecom_data['ratings'].str.contains('₹') |\n",
    "                                ecom_data['ratings'].str.contains('Get') |\n",
    "                                ecom_data['ratings'].str.contains('FREE') | \n",
    "                                (ecom_data['ratings'] == ''), np.zeros, ecom_data['ratings'])\n",
    "\n",
    "# Now analyse all the values in the no_of_ratings column and replace them with null value\n",
    "ecom_data['no_of_ratings'] = np.where(ecom_data['no_of_ratings'].str.contains('FREE') |\n",
    "                                      ecom_data['no_of_ratings'].str.contains('Only') |\n",
    "                                      ecom_data['no_of_ratings'].str.contains('This') |\n",
    "                                      ecom_data['no_of_ratings'].str.contains('Usually') |\n",
    "                                      (ecom_data['no_of_ratings'] == ''), np.zeros, ecom_data['no_of_ratings'])"
   ]
  },
  {
   "cell_type": "code",
   "execution_count": null,
   "id": "31ec2bf0",
   "metadata": {},
   "outputs": [],
   "source": [
    "# Rename the columns\n",
    "ecom_data = ecom_data.rename(columns = {'actual_price':'actual_price_in_INR', 'discount_price':'discount_price_in_INR'})"
   ]
  },
  {
   "cell_type": "code",
   "execution_count": null,
   "id": "48882b61",
   "metadata": {},
   "outputs": [],
   "source": [
    "# Drop the columns which are not required for the analysis\n",
    "ecom_data.drop(['image','link'], axis=1, inplace=True)"
   ]
  },
  {
   "cell_type": "code",
   "execution_count": null,
   "id": "8a403625",
   "metadata": {},
   "outputs": [],
   "source": [
    "# Dropping the rows in actual_price_in_INR column which has NA Value (Products were not given the actual price)\n",
    "ecom_data.dropna(subset=['actual_price_in_INR'], axis=0, inplace=True)"
   ]
  },
  {
   "cell_type": "code",
   "execution_count": null,
   "id": "14afa64e",
   "metadata": {},
   "outputs": [],
   "source": [
    "# Change the column type to int/float\n",
    "# Replacing the rows with '0' for discount_price_in_INR as discount is not compulsory for every product.\n",
    "# Replacing the rows with '0' for no_of_ratings as for each product, rating is import but what if the product launched was new and yet to get the ratings.\n",
    "ecom_data['no_of_ratings'] = ecom_data['no_of_ratings'].str.replace(',','').fillna(0).astype(float).astype(int)\n",
    "ecom_data['actual_price_in_INR'] = ecom_data['actual_price_in_INR'].str.replace(',','').astype(float).astype(int)\n",
    "ecom_data['discount_price_in_INR'] = ecom_data['discount_price_in_INR'].str.replace(',','').fillna(0).astype(float).astype(int)"
   ]
  },
  {
   "cell_type": "code",
   "execution_count": null,
   "id": "a4b8b535",
   "metadata": {},
   "outputs": [],
   "source": [
    "ecom_data = ecom_data[ecom_data['actual_price_in_INR'] >= 0]"
   ]
  },
  {
   "cell_type": "code",
   "execution_count": null,
   "id": "133b3893",
   "metadata": {},
   "outputs": [],
   "source": [
    "# Create new column called \"brand\"\n",
    "ecom_data['brand'] = ecom_data['name'].str.split(' ').str[0]"
   ]
  },
  {
   "cell_type": "code",
   "execution_count": null,
   "id": "085e6e59",
   "metadata": {},
   "outputs": [],
   "source": [
    "# Create new column called \"selling_price_in_INR\"\n",
    "ecom_data['selling_price_in_INR'] = ecom_data['actual_price_in_INR'] - ecom_data['discount_price_in_INR']\n",
    "ecom_data.head()"
   ]
  },
  {
   "cell_type": "code",
   "execution_count": null,
   "id": "485a1aab",
   "metadata": {},
   "outputs": [],
   "source": [
    "ecom_data['ratings'] = pd.to_numeric(ecom_data['ratings'], errors='coerce').astype(float)"
   ]
  },
  {
   "cell_type": "code",
   "execution_count": null,
   "id": "2f95c2e5",
   "metadata": {},
   "outputs": [],
   "source": [
    "ecom_data['ratings'] = ecom_data.groupby(['sub_category', 'brand'])['ratings'].transform(lambda x:x.fillna(x.median()))"
   ]
  },
  {
   "cell_type": "code",
   "execution_count": null,
   "id": "edc5862f",
   "metadata": {},
   "outputs": [],
   "source": [
    "ecom_data['ratings'] = ecom_data.ratings.fillna(0)"
   ]
  },
  {
   "cell_type": "code",
   "execution_count": null,
   "id": "5ea73b6e",
   "metadata": {},
   "outputs": [],
   "source": [
    "# Check the missing values in the dataset\n",
    "ecom_data.isnull().sum().sort_values(ascending=False)"
   ]
  },
  {
   "cell_type": "code",
   "execution_count": null,
   "id": "0dc42279",
   "metadata": {},
   "outputs": [],
   "source": [
    "ecom_data.info()"
   ]
  },
  {
   "cell_type": "code",
   "execution_count": null,
   "id": "9e0557b2",
   "metadata": {},
   "outputs": [],
   "source": [
    "ecom_data.columns.tolist()"
   ]
  },
  {
   "cell_type": "code",
   "execution_count": null,
   "id": "d6906681",
   "metadata": {},
   "outputs": [],
   "source": [
    "ecom_data.size"
   ]
  },
  {
   "cell_type": "code",
   "execution_count": null,
   "id": "4faad8a1",
   "metadata": {},
   "outputs": [],
   "source": [
    "ecom_data.describe()"
   ]
  },
  {
   "cell_type": "code",
   "execution_count": null,
   "id": "a68d28b0",
   "metadata": {},
   "outputs": [],
   "source": [
    "# Create bins for ratings so that we can calculate demand based on ratings later\n",
    "bins = np.linspace(min(ecom_data['ratings']), max(ecom_data['ratings']),6)\n",
    "bins"
   ]
  },
  {
   "cell_type": "code",
   "execution_count": null,
   "id": "45ebd14c",
   "metadata": {},
   "outputs": [],
   "source": [
    "sns.histplot(data=ecom_data, x='ratings', bins=5, color='skyblue', edgecolor='black', element='bars', kde=True)\n",
    "plt.show()"
   ]
  },
  {
   "cell_type": "code",
   "execution_count": null,
   "id": "30521240",
   "metadata": {},
   "outputs": [],
   "source": [
    "# Let us check the unique values\n",
    "ecom_data.nunique().sort_values(ascending=False)"
   ]
  },
  {
   "cell_type": "code",
   "execution_count": null,
   "id": "d7d738c0",
   "metadata": {},
   "outputs": [],
   "source": [
    "ecom_data.describe(percentiles=[0.25, 0.5, 0.75, 0.9, 0.99])"
   ]
  },
  {
   "cell_type": "code",
   "execution_count": null,
   "id": "6187195f",
   "metadata": {},
   "outputs": [],
   "source": [
    "# Calculate the min value for a sub category of a particular brand based on actual price\n",
    "ecom_data['min_actual'] = ecom_data.groupby(['sub_category', 'brand'])['actual_price_in_INR'].transform(min)"
   ]
  },
  {
   "cell_type": "code",
   "execution_count": null,
   "id": "459da999",
   "metadata": {},
   "outputs": [],
   "source": [
    "# Calculate the 25% value for a sub category of a particular brand based on actual price\n",
    "ecom_data['mid_actual'] = ecom_data.groupby(['sub_category', 'brand'])['actual_price_in_INR'].transform(lambda x:x.quantile(0.25))"
   ]
  },
  {
   "cell_type": "code",
   "execution_count": null,
   "id": "3702a906",
   "metadata": {},
   "outputs": [],
   "source": [
    "# Calculate the 75% value for a sub category of a particular brand based on actual price\n",
    "ecom_data['mod_actual'] = ecom_data.groupby(['sub_category', 'brand'])['actual_price_in_INR'].transform(lambda x:x.quantile(0.75))"
   ]
  },
  {
   "cell_type": "code",
   "execution_count": null,
   "id": "a3f1dce6",
   "metadata": {},
   "outputs": [],
   "source": [
    "# Calculate the min value for a sub category of a particular brand based on discount price\n",
    "ecom_data['min_discount'] = ecom_data.groupby(['sub_category', 'brand'])['discount_price_in_INR'].transform(min)"
   ]
  },
  {
   "cell_type": "code",
   "execution_count": null,
   "id": "9720f38d",
   "metadata": {},
   "outputs": [],
   "source": [
    "# Calculate the 25% value for a sub category of a particular brand based on discount price\n",
    "ecom_data['mid_discount'] = ecom_data.groupby(['sub_category', 'brand'])['discount_price_in_INR'].transform(lambda x:x.quantile(0.25))"
   ]
  },
  {
   "cell_type": "code",
   "execution_count": null,
   "id": "8e4f24bf",
   "metadata": {},
   "outputs": [],
   "source": [
    "# Calculate the 75% value for a sub category of a particular brand based on discount price\n",
    "ecom_data['mod_discount'] = ecom_data.groupby(['sub_category', 'brand'])['discount_price_in_INR'].transform(lambda x:x.quantile(0.75))"
   ]
  },
  {
   "cell_type": "code",
   "execution_count": null,
   "id": "ed5227c6",
   "metadata": {},
   "outputs": [],
   "source": [
    "# Calculate the min value for a sub category of a particular brand based on selling price\n",
    "ecom_data['min_selling'] = ecom_data.groupby(['sub_category', 'brand'])['selling_price_in_INR'].transform(min)"
   ]
  },
  {
   "cell_type": "code",
   "execution_count": null,
   "id": "4a87331a",
   "metadata": {},
   "outputs": [],
   "source": [
    "# Calculate the 25% value for a sub category of a particular brand based on selling price\n",
    "ecom_data['mid_selling'] = ecom_data.groupby(['sub_category', 'brand'])['selling_price_in_INR'].transform(lambda x:x.quantile(0.25))"
   ]
  },
  {
   "cell_type": "code",
   "execution_count": null,
   "id": "08e4c80c",
   "metadata": {},
   "outputs": [],
   "source": [
    "# Calculate the 75% value for a sub category of a particular brand based on selling price\n",
    "ecom_data['mod_selling'] = ecom_data.groupby(['sub_category', 'brand'])['selling_price_in_INR'].transform(lambda x:x.quantile(0.75))"
   ]
  },
  {
   "cell_type": "code",
   "execution_count": null,
   "id": "3bc49a00",
   "metadata": {},
   "outputs": [],
   "source": [
    "ecom_data.head()"
   ]
  },
  {
   "cell_type": "code",
   "execution_count": null,
   "id": "39bf5174",
   "metadata": {},
   "outputs": [],
   "source": [
    "# Function to calculate demand for actual_price_in_INR based on sub_category and brand columns by taking min, 25%, 75%\n",
    "def actualCategorize(row):\n",
    "    if ((row['actual_price_in_INR'] >= row['min_actual']) & (row['actual_price_in_INR'] <= row['mid_actual'])):\n",
    "        return \"Low Demand\"\n",
    "    elif ((row['actual_price_in_INR'] > row['mid_actual']) & (row['actual_price_in_INR'] < row['mod_actual'])):\n",
    "        return \"Moderate Demand\"\n",
    "    else:\n",
    "        return \"High Demand\""
   ]
  },
  {
   "cell_type": "code",
   "execution_count": null,
   "id": "1f07592b",
   "metadata": {},
   "outputs": [],
   "source": [
    "# Function to calculate demand for discount_price_in_INR based on sub_category and brand columns by taking min, 25%, 75%\n",
    "def discountCategorize(row):\n",
    "    if ((row['discount_price_in_INR'] >= row['min_discount']) & (row['discount_price_in_INR'] <= row['mid_discount'])):\n",
    "        return \"Low Demand\"\n",
    "    elif ((row['discount_price_in_INR'] > row['mid_discount']) & (row['discount_price_in_INR'] < row['mod_discount'])):\n",
    "        return \"Moderate Demand\"\n",
    "    else:\n",
    "        return \"High Demand\""
   ]
  },
  {
   "cell_type": "code",
   "execution_count": null,
   "id": "c42f4e91",
   "metadata": {},
   "outputs": [],
   "source": [
    "# Function to calculate demand for selling_price_in_INR based on sub_category and brand columns by taking min, 25%, 75%\n",
    "def sellingCategorize(row):\n",
    "    if ((row['selling_price_in_INR'] >= row['min_selling']) & (row['selling_price_in_INR'] <= row['mid_selling'])):\n",
    "        return \"Low Demand\"\n",
    "    elif ((row['selling_price_in_INR'] > row['mid_selling']) & (row['selling_price_in_INR'] < row['mod_selling'])):\n",
    "        return \"Moderate Demand\"\n",
    "    else:\n",
    "        return \"High Demand\""
   ]
  },
  {
   "cell_type": "code",
   "execution_count": null,
   "id": "e91d0f04",
   "metadata": {},
   "outputs": [],
   "source": [
    "# Calculate the demand for actual_price_in_INR based on sub_Category and brand columns\n",
    "ecom_data['actual_demand'] = ecom_data.apply(actualCategorize, axis=1)"
   ]
  },
  {
   "cell_type": "code",
   "execution_count": null,
   "id": "282f6bad",
   "metadata": {},
   "outputs": [],
   "source": [
    "# Calculate the demand for discount_price_in_INR based on sub_Category and brand columns\n",
    "ecom_data['discount_demand'] = ecom_data.apply(discountCategorize, axis=1)"
   ]
  },
  {
   "cell_type": "code",
   "execution_count": null,
   "id": "59a44e99",
   "metadata": {},
   "outputs": [],
   "source": [
    "# Calculate the demand for selling_price_in_INR based on sub_Category and brand columns\n",
    "ecom_data['selling_demand'] = ecom_data.apply(sellingCategorize, axis=1)"
   ]
  },
  {
   "cell_type": "code",
   "execution_count": null,
   "id": "16a27e05",
   "metadata": {},
   "outputs": [],
   "source": [
    "ecom_data.head()"
   ]
  },
  {
   "cell_type": "code",
   "execution_count": null,
   "id": "f9759f8d",
   "metadata": {},
   "outputs": [],
   "source": [
    "# Dropping the columns as we have calculated the demand based on these columns\n",
    "ecom_data.drop(['min_actual', 'mid_actual', 'mod_actual', 'min_discount', 'mid_discount', 'mod_discount', 'min_selling', 'mid_selling', 'mod_selling'], axis=1, inplace=True)\n",
    "ecom_data.head()"
   ]
  },
  {
   "cell_type": "code",
   "execution_count": null,
   "id": "a9079ef9",
   "metadata": {},
   "outputs": [],
   "source": [
    "# Numerical columns in dataset\n",
    "ecom_data_num = list(ecom_data.select_dtypes(include=['float64', 'int32']).columns)\n",
    "ecom_data_num"
   ]
  },
  {
   "cell_type": "code",
   "execution_count": null,
   "id": "b1db2988",
   "metadata": {},
   "outputs": [],
   "source": [
    "# Categorical columns in dataset\n",
    "ecom_data_cat = list(ecom_data.select_dtypes(include=['object']).columns)\n",
    "ecom_data_cat"
   ]
  },
  {
   "cell_type": "code",
   "execution_count": null,
   "id": "6c95a34c",
   "metadata": {},
   "outputs": [],
   "source": [
    "# Box plot for numerical columns\n",
    "plt.figure(figsize=(20,30))\n",
    "for i in enumerate(ecom_data_num):\n",
    "    plt.subplot(3,3,i[0]+1)\n",
    "    sns.boxplot(x=i[1], data=ecom_data)"
   ]
  },
  {
   "cell_type": "code",
   "execution_count": null,
   "id": "bc411481",
   "metadata": {},
   "outputs": [],
   "source": [
    "ecom_data.shape"
   ]
  },
  {
   "cell_type": "code",
   "execution_count": null,
   "id": "349d327e",
   "metadata": {},
   "outputs": [],
   "source": [
    "# From the above box plot, I observed that discount_price_in_INR, actual_price_in_INR, actuak_price_in_INR has infinite values.\n",
    "# Replacing infinite values with NaN\n",
    "ecom_data[np.isinf(ecom_data.actual_price_in_INR)] = np.nan\n",
    "ecom_data[np.isinf(ecom_data.discount_price_in_INR)] = np.nan\n",
    "ecom_data[np.isinf(ecom_data.selling_price_in_INR)] = np.nan"
   ]
  },
  {
   "cell_type": "code",
   "execution_count": null,
   "id": "acf1529e",
   "metadata": {},
   "outputs": [],
   "source": [
    "# Dropping the values which are having NaN values\n",
    "ecom_data.dropna(subset=['actual_price_in_INR', 'discount_price_in_INR', 'selling_price_in_INR'], axis=0, inplace=True)"
   ]
  },
  {
   "cell_type": "code",
   "execution_count": null,
   "id": "2997acc4",
   "metadata": {},
   "outputs": [],
   "source": [
    "ecom_data.shape"
   ]
  },
  {
   "cell_type": "code",
   "execution_count": null,
   "id": "c4521e94",
   "metadata": {},
   "outputs": [],
   "source": [
    "# Function to check outliers\n",
    "def check_outliers(list):\n",
    "    for i in list:\n",
    "        Q1 = ecom_data[i].quantile(0.25)\n",
    "        Q3 = ecom_data[i].quantile(0.75)\n",
    "        IQR = Q3 - Q1\n",
    "        lower_fence = Q1-1.5*IQR\n",
    "        upper_fence = Q3+1.5*IQR\n",
    "        ecom_data[i][ecom_data[i] <= lower_fence] = lower_fence\n",
    "        ecom_data[i][ecom_data[i] >= upper_fence] = upper_fence\n",
    "        print(\"Outliers : \",i, lower_fence, upper_fence)\n",
    "        plt.figure(1, figsize=(10,5))\n",
    "        sns.boxplot(x=i, data=ecom_data)\n",
    "        plt.xticks(rotation=90, fontsize=10)\n",
    "        plt.show()"
   ]
  },
  {
   "cell_type": "code",
   "execution_count": null,
   "id": "c7279b9b",
   "metadata": {},
   "outputs": [],
   "source": [
    "check_outliers(ecom_data_num)"
   ]
  },
  {
   "cell_type": "code",
   "execution_count": null,
   "id": "7e567de1",
   "metadata": {},
   "outputs": [],
   "source": [
    "# Box plot for numerical columns\n",
    "plt.figure(figsize=(20,30))\n",
    "for i in enumerate(ecom_data_num):\n",
    "    plt.subplot(3,3,i[0]+1)\n",
    "    sns.boxplot(x=i[1], data=ecom_data)"
   ]
  },
  {
   "cell_type": "code",
   "execution_count": null,
   "id": "924e673f",
   "metadata": {},
   "outputs": [],
   "source": [
    "# Bar plot for main_category and the target variable \"selling_price_in_INR\"\n",
    "plt.figure(figsize=(15,10))\n",
    "sns.barplot(x='main_category', y='selling_price_in_INR', data=ecom_data)\n",
    "plt.xticks(rotation=90)\n",
    "plt.show()"
   ]
  },
  {
   "cell_type": "code",
   "execution_count": null,
   "id": "80ee57ba",
   "metadata": {},
   "outputs": [],
   "source": [
    "# Bar plot for sub_category and the target variable \"selling_price_in_INR\"\n",
    "plt.figure(figsize=(15,10))\n",
    "sns.barplot(x='sub_category', y='selling_price_in_INR', data=ecom_data)\n",
    "plt.xticks(rotation=90)\n",
    "plt.show()"
   ]
  },
  {
   "cell_type": "code",
   "execution_count": null,
   "id": "d5814155",
   "metadata": {},
   "outputs": [],
   "source": [
    "# Bar plot for actual_demand and the target variable \"selling_price_in_INR\"\n",
    "plt.figure(figsize=(8,5))\n",
    "sns.barplot(x='actual_demand', y='selling_price_in_INR', data=ecom_data)\n",
    "plt.show()"
   ]
  },
  {
   "cell_type": "code",
   "execution_count": null,
   "id": "d1ed9c60",
   "metadata": {},
   "outputs": [],
   "source": [
    "# Bar plot for discount_demand and the target variable \"selling_price_in_INR\"\n",
    "plt.figure(figsize=(8,5))\n",
    "sns.barplot(x='discount_demand', y='selling_price_in_INR', data=ecom_data)\n",
    "plt.show()"
   ]
  },
  {
   "cell_type": "code",
   "execution_count": null,
   "id": "d8c6bbcb",
   "metadata": {},
   "outputs": [],
   "source": [
    "# Bar plot for selling_demand and the target variable \"selling_price_in_INR\"\n",
    "plt.figure(figsize=(8,5))\n",
    "sns.barplot(x='selling_demand', y='selling_price_in_INR', data=ecom_data)\n",
    "plt.show()"
   ]
  },
  {
   "cell_type": "code",
   "execution_count": null,
   "id": "3f54dbe1",
   "metadata": {},
   "outputs": [],
   "source": [
    "# Count plot for sub category and actual demand\n",
    "plt.figure(figsize=(20,10))\n",
    "sns.countplot(x='sub_category', hue='actual_demand', data=ecom_data)\n",
    "plt.xticks(rotation=90)\n",
    "plt.show()"
   ]
  },
  {
   "cell_type": "code",
   "execution_count": null,
   "id": "ec81e5b4",
   "metadata": {},
   "outputs": [],
   "source": [
    "# Count plot for main category and actual demand as I have calculated the demand based on the sub category and brand for actual_price_in_INR\n",
    "plt.figure(figsize=(20,10))\n",
    "sns.countplot(x='main_category', hue='actual_demand', data=ecom_data)\n",
    "plt.xticks(rotation=90)\n",
    "plt.show()"
   ]
  },
  {
   "cell_type": "code",
   "execution_count": null,
   "id": "43c0f6fe",
   "metadata": {},
   "outputs": [],
   "source": [
    "# Count plot for main category and discount demand as I have calculated the demand based on the sub category and brand for discount_price_in_INR\n",
    "plt.figure(figsize=(20,10))\n",
    "sns.countplot(x='main_category', hue='discount_demand', data=ecom_data)\n",
    "plt.xticks(rotation=90)\n",
    "plt.show()"
   ]
  },
  {
   "cell_type": "code",
   "execution_count": null,
   "id": "5b08e56c",
   "metadata": {},
   "outputs": [],
   "source": [
    "# Count plot for main category and selling demand as I have calculated the demand based on the sub category and brand for discount_price_in_INR\n",
    "plt.figure(figsize=(20,10))\n",
    "sns.countplot(x='main_category', hue='selling_demand', data=ecom_data)\n",
    "plt.xticks(rotation=90)\n",
    "plt.show()"
   ]
  },
  {
   "cell_type": "code",
   "execution_count": null,
   "id": "0daa9bab",
   "metadata": {},
   "outputs": [],
   "source": [
    "# Now I chose the top brands and plot the bar graph\n",
    "values = ecom_data['brand'].value_counts().keys().tolist()[:10]\n",
    "counts = ecom_data['brand'].value_counts().tolist()[:10]"
   ]
  },
  {
   "cell_type": "code",
   "execution_count": null,
   "id": "56b08619",
   "metadata": {},
   "outputs": [],
   "source": [
    "# Bar plot for top 10 brands\n",
    "plt.figure(figsize=(8,5))\n",
    "sns.barplot(x=values, y=counts, data=ecom_data)\n",
    "plt.show()"
   ]
  },
  {
   "cell_type": "code",
   "execution_count": null,
   "id": "a2bf8c4a",
   "metadata": {},
   "outputs": [],
   "source": [
    "# Check the regplot between selling_price_in_INR and actual_price_in_INR\n",
    "plt.figure(figsize=(5,3), dpi=110)\n",
    "plt.title(\"Actual Price vs Selling Price\", fontsize=14)\n",
    "sns.regplot(data=ecom_data, x='actual_price_in_INR', y=\"selling_price_in_INR\", line_kws={'color':'red'})\n",
    "plt.xlabel(\"Actual Price\")\n",
    "plt.show()\n",
    "\n",
    "# Check the regplot between selling_price_in_INR and discount_price_in_INR\n",
    "plt.figure(figsize=(5,3), dpi=110)\n",
    "plt.title(\"Discount Price vs Selling Price\", fontsize=14)\n",
    "sns.regplot(data=ecom_data, x='discount_price_in_INR', y=\"selling_price_in_INR\", line_kws={'color':'red'})\n",
    "plt.xlabel(\"Discount Price\")\n",
    "plt.show()\n",
    "\n",
    "# Check the regplot between selling_price_in_INR and ratings\n",
    "plt.figure(figsize=(5,3), dpi=110)\n",
    "plt.title(\"Ratings vs Selling Price\", fontsize=14)\n",
    "sns.regplot(data=ecom_data, x='ratings', y=\"selling_price_in_INR\", line_kws={'color':'red'})\n",
    "plt.xlabel(\"Ratings\")\n",
    "plt.show()\n",
    "\n",
    "# Check the regplot between selling_price_in_INR and no_of_ratings\n",
    "plt.figure(figsize=(5,3), dpi=110)\n",
    "plt.title(\"No. of Ratings vs Selling Price\", fontsize=14)\n",
    "sns.regplot(data=ecom_data, x='no_of_ratings', y=\"selling_price_in_INR\", line_kws={'color':'red'})\n",
    "plt.xlabel(\"No. of Ratings\")\n",
    "plt.show()"
   ]
  },
  {
   "cell_type": "code",
   "execution_count": null,
   "id": "62062b4b",
   "metadata": {},
   "outputs": [],
   "source": [
    "# Check the regplot between selling_price_in_INR and no_of_ratings\n",
    "plt.figure(figsize=(5,3), dpi=110)\n",
    "plt.title(\"No. of Ratings vs Ratings\", fontsize=14)\n",
    "sns.regplot(data=ecom_data, y='no_of_ratings', x=\"ratings\", line_kws={'color':'red'})\n",
    "plt.xlabel(\"Ratings\")\n",
    "plt.show()"
   ]
  },
  {
   "cell_type": "code",
   "execution_count": null,
   "id": "cf60e42c",
   "metadata": {
    "scrolled": true
   },
   "outputs": [],
   "source": [
    "# Scatter Plot for ratings and no_of_ratings by comparing with actual_demand\n",
    "plt.figure(figsize=(20,10))\n",
    "sns.scatterplot(x='no_of_ratings', y='ratings', hue='actual_demand', data=ecom_data)\n",
    "plt.show()"
   ]
  },
  {
   "cell_type": "code",
   "execution_count": null,
   "id": "7ee6dbc9",
   "metadata": {},
   "outputs": [],
   "source": [
    "# Scatter Plot for ratings and no_of_ratings by comparing with discount_demand\n",
    "plt.figure(figsize=(20,10))\n",
    "sns.scatterplot(x='no_of_ratings', y='ratings', hue='discount_demand', data=ecom_data)\n",
    "plt.show()"
   ]
  },
  {
   "cell_type": "code",
   "execution_count": null,
   "id": "4e2b642a",
   "metadata": {},
   "outputs": [],
   "source": [
    "# Scatter Plot for ratings and no_of_ratings by comparing with selling_demand\n",
    "plt.figure(figsize=(20,10))\n",
    "sns.scatterplot(x='no_of_ratings', y='ratings', hue='selling_demand', data=ecom_data)\n",
    "plt.show()"
   ]
  },
  {
   "cell_type": "code",
   "execution_count": null,
   "id": "df4655b5",
   "metadata": {},
   "outputs": [],
   "source": [
    "# Scatter Plot for actual_price_in_INR and selling_price_in_INR by comparing with actual_demand\n",
    "plt.figure(figsize=(20,10))\n",
    "sns.scatterplot(x='actual_price_in_INR', y='selling_price_in_INR', hue='actual_demand', data=ecom_data)\n",
    "plt.show()"
   ]
  },
  {
   "cell_type": "code",
   "execution_count": null,
   "id": "44e6b6ca",
   "metadata": {},
   "outputs": [],
   "source": [
    "# Scatter Plot for discount_price_in_INR and selling_price_in_INR by comparing with discount_demand\n",
    "plt.figure(figsize=(20,10))\n",
    "sns.scatterplot(x='discount_price_in_INR', y='selling_price_in_INR', hue='discount_demand', data=ecom_data)\n",
    "plt.show()"
   ]
  },
  {
   "cell_type": "code",
   "execution_count": null,
   "id": "87b96129",
   "metadata": {},
   "outputs": [],
   "source": [
    "plt.figure(figsize=(20,10))\n",
    "sns.scatterplot(x='no_of_ratings', y='ratings', data=ecom_data)\n",
    "plt.show()"
   ]
  },
  {
   "cell_type": "code",
   "execution_count": null,
   "id": "a82ce331",
   "metadata": {},
   "outputs": [],
   "source": [
    "# plotting heat map to find correlation among continuous variables\n",
    "plt.figure(figsize=(10,10))\n",
    "sns.heatmap(ecom_data[ecom_data_num].corr(), annot=True, cmap=\"RdYlGn\")\n",
    "plt.show()"
   ]
  },
  {
   "cell_type": "code",
   "execution_count": null,
   "id": "0f28614a",
   "metadata": {},
   "outputs": [],
   "source": [
    "# Dropping the name column as I see it has more number of unique values and is not required for model building\n",
    "ecom_data.drop(['name', 'brand'], axis=1, inplace=True)"
   ]
  },
  {
   "cell_type": "code",
   "execution_count": null,
   "id": "cea23d81",
   "metadata": {},
   "outputs": [],
   "source": [
    "ecom_data.shape"
   ]
  },
  {
   "cell_type": "code",
   "execution_count": null,
   "id": "be226527",
   "metadata": {},
   "outputs": [],
   "source": [
    "# Before proceeding further with model building, Get dummies for categorical variables\n",
    "\n",
    "mc = pd.get_dummies(ecom_data['main_category'], prefix = 'mc', sparse=True)\n",
    "mc = mc.astype(int)\n",
    "# Adding result to master ecom_data\n",
    "ecom_data = pd.concat([ecom_data, mc], axis=1)\n",
    "# Dropping original variable\n",
    "ecom_data = ecom_data.drop('main_category', axis=1)"
   ]
  },
  {
   "cell_type": "code",
   "execution_count": null,
   "id": "7514f7ea",
   "metadata": {},
   "outputs": [],
   "source": [
    "sc = pd.get_dummies(ecom_data['sub_category'], prefix = 'sc', sparse=True)\n",
    "sc = sc.astype(int)\n",
    "# Adding result to master ecom_data\n",
    "ecom_data = pd.concat([ecom_data, sc], axis=1)\n",
    "# Dropping original variable\n",
    "ecom_data = ecom_data.drop('sub_category', axis=1)"
   ]
  },
  {
   "cell_type": "code",
   "execution_count": null,
   "id": "d0b2c801",
   "metadata": {},
   "outputs": [],
   "source": [
    "#br = pd.get_dummies(ecom_final['brand'], prefix = 'br', sparse=True)\n",
    "#br = br.astype(int)\n",
    "# Adding result to master ecom_data\n",
    "#ecom_final = pd.concat([ecom_final, br], axis=1)\n",
    "# Dropping original variable\n",
    "#ecom_final = ecom_data.drop('brand', axis=1)"
   ]
  },
  {
   "cell_type": "code",
   "execution_count": null,
   "id": "90599a19",
   "metadata": {},
   "outputs": [],
   "source": [
    "acDmd = pd.get_dummies(ecom_data['actual_demand'], prefix = 'acDmd', sparse=True)\n",
    "acDmd = acDmd.astype(int)\n",
    "# Adding result to master ecom_data\n",
    "ecom_data = pd.concat([ecom_data, acDmd], axis=1)\n",
    "# Dropping original variable\n",
    "ecom_data = ecom_data.drop('actual_demand', axis=1)"
   ]
  },
  {
   "cell_type": "code",
   "execution_count": null,
   "id": "a52fa9f2",
   "metadata": {},
   "outputs": [],
   "source": [
    "dsDmd = pd.get_dummies(ecom_data['discount_demand'], prefix = 'dsDmd', sparse=True)\n",
    "dsDmd = dsDmd.astype(int)\n",
    "# Adding result to master ecom_data\n",
    "ecom_data = pd.concat([ecom_data, dsDmd], axis=1)\n",
    "# Dropping original variable\n",
    "ecom_data = ecom_data.drop('discount_demand', axis=1)"
   ]
  },
  {
   "cell_type": "code",
   "execution_count": null,
   "id": "8baa25d3",
   "metadata": {},
   "outputs": [],
   "source": [
    "slDmd = pd.get_dummies(ecom_data['selling_demand'], prefix = 'slDmd', sparse=True)\n",
    "slDmd = slDmd.astype(int)\n",
    "# Adding result to master ecom_data\n",
    "ecom_data = pd.concat([ecom_data, slDmd], axis=1)\n",
    "# Dropping original variable\n",
    "ecom_data = ecom_data.drop('selling_demand', axis=1)"
   ]
  },
  {
   "cell_type": "code",
   "execution_count": null,
   "id": "e1f0ce31",
   "metadata": {},
   "outputs": [],
   "source": [
    "ecom_data.head()"
   ]
  },
  {
   "cell_type": "code",
   "execution_count": null,
   "id": "9fd819ff",
   "metadata": {},
   "outputs": [],
   "source": [
    "ecom_data.shape"
   ]
  },
  {
   "cell_type": "code",
   "execution_count": null,
   "id": "10c6e11e",
   "metadata": {},
   "outputs": [],
   "source": [
    "#Putting feature variables in X and response/target variables in y\n",
    "X = ecom_data.drop(['selling_price_in_INR'], axis=1)\n",
    "y = ecom_data['selling_price_in_INR']"
   ]
  },
  {
   "cell_type": "code",
   "execution_count": null,
   "id": "43c7dbc0",
   "metadata": {},
   "outputs": [],
   "source": [
    "# Split the dataset into train data and test data\n",
    "X_train, X_test, y_train, y_test = train_test_split(X, y, train_size=0.7, test_size=0.3, random_state=100)"
   ]
  },
  {
   "cell_type": "code",
   "execution_count": null,
   "id": "79ad685a",
   "metadata": {},
   "outputs": [],
   "source": [
    "# Scaling\n",
    "scaler = MinMaxScaler()\n",
    "\n",
    "#ecom_num = ['ratings', 'no_of_ratings', 'actual_price_in_INR', 'discount_price_in_INR', 'selling_price_in_INR']\n",
    "\n",
    "# Fitting and transforming the scale on train\n",
    "#ecom_train[ecom_num] = scaler.fit_transform(ecom_train[ecom_num])\n",
    "\n",
    "#ecom_test[ecom_num] = scaler.transform(ecom_test[ecom_num])\n",
    "\n",
    "X_train = scaler.fit_transform(X_train)\n",
    "\n",
    "X_test = scaler.transform(X_test)"
   ]
  },
  {
   "cell_type": "code",
   "execution_count": null,
   "id": "ada22563",
   "metadata": {},
   "outputs": [],
   "source": [
    "## PCA"
   ]
  },
  {
   "cell_type": "code",
   "execution_count": null,
   "id": "a0e486d3",
   "metadata": {},
   "outputs": [],
   "source": [
    "#let us do the PCA to reduce the dimensionality of the data and proceed with the Logistic regression first and move forward to other models\n",
    "#Import PCA module\n",
    "from sklearn.decomposition import PCA\n",
    "pca = PCA(svd_solver='randomized', random_state=42)"
   ]
  },
  {
   "cell_type": "code",
   "execution_count": null,
   "id": "d7961f2f",
   "metadata": {},
   "outputs": [],
   "source": [
    "#Let us fit the model with PCA\n",
    "pca.fit(X_train)\n",
    "\n",
    "#List of PCA components, it would be the same as number of variables\n",
    "pca.components_"
   ]
  },
  {
   "cell_type": "code",
   "execution_count": null,
   "id": "eb3dbc8f",
   "metadata": {},
   "outputs": [],
   "source": [
    "#Let's check the variance ratios\n",
    "pca.explained_variance_ratio_[:50]"
   ]
  },
  {
   "cell_type": "code",
   "execution_count": null,
   "id": "a36b9d03",
   "metadata": {},
   "outputs": [],
   "source": [
    "#Visualise the pca variance ration in a bar graph\n",
    "plt.figure(figsize=(6,5))\n",
    "plt.bar(range(1,len(pca.explained_variance_ratio_[:50])+1), pca.explained_variance_ratio_[:50])\n",
    "plt.show()"
   ]
  },
  {
   "cell_type": "code",
   "execution_count": null,
   "id": "a5b0d879",
   "metadata": {},
   "outputs": [],
   "source": [
    "#Most of the data is in the 0 to 2 range. Let's see the cummulative variance ratio\n",
    "var_cum = np.cumsum(pca.explained_variance_ratio_)"
   ]
  },
  {
   "cell_type": "code",
   "execution_count": null,
   "id": "64a2689f",
   "metadata": {},
   "outputs": [],
   "source": [
    "#We can see most of the data is lying between 0 to 10\n",
    "#Make the scree plots clearly for choosing the number of PCA\n",
    "plt.figure(figsize=(8,6))\n",
    "plt.title('Scree Plots')\n",
    "plt.xlabel('Number of Components')\n",
    "plt.ylabel('Cummulative explained variance')\n",
    "plt.plot(range(1,len(var_cum)+1), var_cum)\n",
    "plt.show()"
   ]
  },
  {
   "cell_type": "markdown",
   "id": "dbb4318d",
   "metadata": {},
   "source": [
    "We will take 50 components for describe the 95% of the variance in the dataset"
   ]
  },
  {
   "cell_type": "code",
   "execution_count": null,
   "id": "33d3c03c",
   "metadata": {},
   "outputs": [],
   "source": [
    "#Once again we will apply PCA with components\n",
    "pca = PCA(n_components=50, random_state=42)"
   ]
  },
  {
   "cell_type": "code",
   "execution_count": null,
   "id": "1373cd13",
   "metadata": {},
   "outputs": [],
   "source": [
    "#Let us fit the data\n",
    "X_train_pca = pca.fit_transform(X_train)\n",
    "X_train_pca.shape"
   ]
  },
  {
   "cell_type": "code",
   "execution_count": null,
   "id": "513f77d0",
   "metadata": {},
   "outputs": [],
   "source": [
    "#Creating the correlation matrix for the principal components\n",
    "corr_mat = np.corrcoef(X_train_pca.transpose())\n",
    "corr_mat_nodiag = corr_mat - np.diagflat(corr_mat.diagonal())\n",
    "print(\"Max corr: \", corr_mat_nodiag.max(),\", min corr: \",corr_mat_nodiag.min(),)"
   ]
  },
  {
   "cell_type": "code",
   "execution_count": null,
   "id": "17166993",
   "metadata": {},
   "outputs": [],
   "source": [
    "plt.figure(figsize=(20,10))\n",
    "sns.heatmap(corr_mat, annot=True)\n",
    "plt.show()"
   ]
  },
  {
   "cell_type": "code",
   "execution_count": null,
   "id": "c1040801",
   "metadata": {},
   "outputs": [],
   "source": [
    "#Applying selected omponents to the test data - 12 components\n",
    "X_test_pca = pca.transform(X_test)\n",
    "X_test_pca.shape"
   ]
  },
  {
   "cell_type": "code",
   "execution_count": null,
   "id": "c9f0ec86",
   "metadata": {},
   "outputs": [],
   "source": [
    "## Linear Regression"
   ]
  },
  {
   "cell_type": "code",
   "execution_count": null,
   "id": "f2a947da",
   "metadata": {},
   "outputs": [],
   "source": [
    "# Perform Linear Regression\n",
    "lm = LinearRegression()\n",
    "\n",
    "# Fit a line\n",
    "lm.fit(X_train_pca, y_train)"
   ]
  },
  {
   "cell_type": "code",
   "execution_count": null,
   "id": "6a5417b9",
   "metadata": {},
   "outputs": [],
   "source": [
    "# Print the coefficients and intercept\n",
    "print('Intercepts are: ',lm.intercept_)\n",
    "print('Coefficients are:',lm.coef_)"
   ]
  },
  {
   "cell_type": "code",
   "execution_count": null,
   "id": "2247a18b",
   "metadata": {},
   "outputs": [],
   "source": [
    "# Predict the model with train set\n",
    "y_train_pred = lm.predict(X_train_pca)\n",
    "\n",
    "# r2 score for the train model\n",
    "metrics.r2_score(y_true = y_train, y_pred = y_train_pred)"
   ]
  },
  {
   "cell_type": "code",
   "execution_count": null,
   "id": "e1b917d7",
   "metadata": {},
   "outputs": [],
   "source": [
    "# Predict the model with test set\n",
    "y_test_pred = lm.predict(X_test_pca)\n",
    "\n",
    "# r2 score for the test model\n",
    "metrics.r2_score(y_true = y_test, y_pred = y_test_pred)"
   ]
  },
  {
   "cell_type": "code",
   "execution_count": null,
   "id": "25eb3f47",
   "metadata": {},
   "outputs": [],
   "source": [
    "# Create an empty results table\n",
    "train_results = pd.DataFrame(columns=['Algorithm', 'Train  R2 score', 'Train MSE', 'Train RMSE', 'Train MAE'])\n",
    "test_results = pd.DataFrame(columns=['Algorithm', 'Test R2 score', 'Test MSE', 'Test RMSE', 'Test MAE'])"
   ]
  },
  {
   "cell_type": "code",
   "execution_count": null,
   "id": "47b70356",
   "metadata": {
    "scrolled": true
   },
   "outputs": [],
   "source": [
    "# Calculate the scores for Train Dataset\n",
    "train_r2_score = r2_score(y_train, y_train_pred)\n",
    "train_mse = mean_squared_error(y_train, y_train_pred)\n",
    "train_rmse = np.sqrt(train_mse)\n",
    "train_mae = mean_absolute_error(y_train, y_train_pred)\n",
    "\n",
    "# Calculate the scores for Test Dataset\n",
    "test_r2_score = r2_score(y_test, y_test_pred)\n",
    "test_mse = mean_squared_error(y_test, y_test_pred)\n",
    "test_rmse = np.sqrt(test_mse)\n",
    "test_mae = mean_absolute_error(y_test, y_test_pred)\n",
    "\n",
    "\n",
    "train_results = train_results._append({'Algorithm': 'Linear Regression', 'Train R2 Score': train_r2_score, 'Train MSE': train_mse,\n",
    "                                       'Train RMSE': train_rmse, 'Train MAE': train_mae}, ignore_index=True)\n",
    "\n",
    "test_results = test_results._append({'Algorithm': 'Linear Regression',  'Test R2 Score': test_r2_score,\n",
    "                                    'Test MSE': test_mse, 'Test RMSE': test_rmse, 'Test MAE': test_mae}, ignore_index=True)"
   ]
  },
  {
   "cell_type": "code",
   "execution_count": null,
   "id": "80f0dbd8",
   "metadata": {},
   "outputs": [],
   "source": [
    "test_results"
   ]
  },
  {
   "cell_type": "code",
   "execution_count": null,
   "id": "fe4ee46e",
   "metadata": {},
   "outputs": [],
   "source": [
    "## Decision Tree"
   ]
  },
  {
   "cell_type": "code",
   "execution_count": null,
   "id": "e7275e02",
   "metadata": {},
   "outputs": [],
   "source": [
    "dTree = DecisionTreeRegressor()"
   ]
  },
  {
   "cell_type": "code",
   "execution_count": null,
   "id": "ad773d1f",
   "metadata": {},
   "outputs": [],
   "source": [
    "dTree.fit(X_train_pca, y_train)"
   ]
  },
  {
   "cell_type": "code",
   "execution_count": null,
   "id": "6aea7105",
   "metadata": {},
   "outputs": [],
   "source": [
    "# Predict the model with train set\n",
    "y_train_pred = dTree.predict(X_train_pca)\n",
    "\n",
    "# r2 score for the train model\n",
    "metrics.r2_score(y_true = y_train, y_pred = y_train_pred)"
   ]
  },
  {
   "cell_type": "code",
   "execution_count": null,
   "id": "5f3aa154",
   "metadata": {},
   "outputs": [],
   "source": [
    "# Predict the model with test set\n",
    "y_test_pred = dTree.predict(X_test_pca)"
   ]
  },
  {
   "cell_type": "code",
   "execution_count": null,
   "id": "7add6d97",
   "metadata": {},
   "outputs": [],
   "source": [
    "# Create the parameter grid based on the results of random search\n",
    "param_grid = {'max_depth': range(5,15,3), 'min_samples_leaf':range(100,200,50), 'min_samples_split':range(100,200,50), 'max_features':range(5,50,5)}\n",
    "dTree = DecisionTreeRegressor(random_state=10)\n",
    "grid_search = GridSearchCV(estimator=dTree, param_grid=param_grid, cv=5, n_jobs=4, verbose=1, scoring='accuracy', return_train_score=True)"
   ]
  },
  {
   "cell_type": "code",
   "execution_count": null,
   "id": "10280562",
   "metadata": {},
   "outputs": [],
   "source": [
    "# Fit the grid search to the data\n",
    "grid_search.fit(X_train_pca, y_train)"
   ]
  },
  {
   "cell_type": "code",
   "execution_count": null,
   "id": "afc828be",
   "metadata": {},
   "outputs": [],
   "source": [
    "# Print the optimal accuracy score and hyper parameters\n",
    "print(\"Recall score\", grid_search.best_score_)\n",
    "print(\"Best parameters\", grid_search.best_estimator_)"
   ]
  },
  {
   "cell_type": "code",
   "execution_count": null,
   "id": "c05847f7",
   "metadata": {},
   "outputs": [],
   "source": [
    "# Model with the best hyperparameters\n",
    "dTree_final = DecisionTreeRegressor(max_depth=5, min_samples_leaf=100, min_samples_split=100, max_features=5, random_state=10)"
   ]
  },
  {
   "cell_type": "code",
   "execution_count": null,
   "id": "ca8f9574",
   "metadata": {},
   "outputs": [],
   "source": [
    "dTree_final.fit(X_train_pca, y_train)"
   ]
  },
  {
   "cell_type": "code",
   "execution_count": null,
   "id": "dab91d0a",
   "metadata": {},
   "outputs": [],
   "source": [
    "# Predict the model with train set\n",
    "y_train_pred = dTree_final.predict(X_train_pca)"
   ]
  },
  {
   "cell_type": "code",
   "execution_count": null,
   "id": "d247f50c",
   "metadata": {},
   "outputs": [],
   "source": [
    "# Predict the model with test set\n",
    "y_test_pred = dTree_final.predict(X_test_pca)"
   ]
  },
  {
   "cell_type": "code",
   "execution_count": null,
   "id": "9a415e38",
   "metadata": {},
   "outputs": [],
   "source": [
    "# Calculate the scores for Train Dataset\n",
    "train_r2_score = r2_score(y_train, y_train_pred)\n",
    "train_mse = mean_squared_error(y_train, y_train_pred)\n",
    "train_rmse = np.sqrt(train_mse)\n",
    "train_mae = mean_absolute_error(y_train, y_train_pred)\n",
    "\n",
    "# Calculate the scores for Test Dataset\n",
    "test_r2_score = r2_score(y_test, y_test_pred)\n",
    "test_mse = mean_squared_error(y_test, y_test_pred)\n",
    "test_rmse = np.sqrt(test_mse)\n",
    "test_mae = mean_absolute_error(y_test, y_test_pred)\n",
    "\n",
    "train_results = train_results._append({'Algorithm': 'Decision Tree', 'Train R2 Score': train_r2_score, 'Train MSE': train_mse,\n",
    "                                       'Train RMSE': train_rmse, 'Train MAE': train_mae}, ignore_index=True)\n",
    "\n",
    "test_results = test_results._append({'Algorithm': 'Decision Tree',  'Test R2 Score': test_r2_score,\n",
    "                                    'Test MSE': test_mse, 'Test RMSE': test_rmse, 'Test MAE': test_mae}, ignore_index=True)"
   ]
  },
  {
   "cell_type": "code",
   "execution_count": null,
   "id": "b13066c8",
   "metadata": {},
   "outputs": [],
   "source": [
    "train_results"
   ]
  },
  {
   "cell_type": "code",
   "execution_count": null,
   "id": "e78059e2",
   "metadata": {},
   "outputs": [],
   "source": [
    "## Random Forest Regressor"
   ]
  },
  {
   "cell_type": "code",
   "execution_count": null,
   "id": "fdc67d56",
   "metadata": {},
   "outputs": [],
   "source": [
    "parameters = {'max_depth': range(10,30,5), 'max_features':range(5,50,5), 'n_estimators':range(30,90,15), 'min_samples_split':range(50,300,50), 'min_samples_leaf':range(100,400,50)}"
   ]
  },
  {
   "cell_type": "code",
   "execution_count": null,
   "id": "a867905f",
   "metadata": {},
   "outputs": [],
   "source": [
    "rfr = RandomForestRegressor()\n",
    "#grid_search = GridSearchCV(estimator=rfr, param_grid=parameters, cv=5, n_jobs=-1, scoring='accuracy', return_train_score=True)"
   ]
  },
  {
   "cell_type": "code",
   "execution_count": null,
   "id": "91c045c5",
   "metadata": {},
   "outputs": [],
   "source": [
    "# Fit the grid search to the data\n",
    "grid_search.fit(X_train_pca, y_train)"
   ]
  },
  {
   "cell_type": "code",
   "execution_count": null,
   "id": "c123c0c3",
   "metadata": {},
   "outputs": [],
   "source": [
    "# Print the optimal accuracy score and hyper parameters\n",
    "print(\"Recall score\", grid_search.best_score_)\n",
    "print(\"Best parameters\", grid_search.best_estimator_)"
   ]
  },
  {
   "cell_type": "code",
   "execution_count": null,
   "id": "3960048a",
   "metadata": {},
   "outputs": [],
   "source": [
    "# Model with the best hyperparameters\n",
    "rf_final = RandomForestRegressor(max_depth=, max_features=, n_estimators=, min_samples_leaf=, min_samples_split=, n_jobs=-1, random_state=100)"
   ]
  },
  {
   "cell_type": "code",
   "execution_count": null,
   "id": "057f4ca5",
   "metadata": {},
   "outputs": [],
   "source": [
    "#rf_final.fit(X_train_pca, y_train)\n",
    "rfr.fit(X_train_pca, y_train)"
   ]
  },
  {
   "cell_type": "code",
   "execution_count": null,
   "id": "9fa9b88c",
   "metadata": {},
   "outputs": [],
   "source": [
    "# Predict the model with train set\n",
    "y_train_pred = rfr.predict(X_train_pca)"
   ]
  },
  {
   "cell_type": "code",
   "execution_count": null,
   "id": "d84e8b65",
   "metadata": {},
   "outputs": [],
   "source": [
    "# Predict the model with test set\n",
    "y_test_pred = rfr.predict(X_test_pca)"
   ]
  },
  {
   "cell_type": "code",
   "execution_count": null,
   "id": "6fc9b374",
   "metadata": {},
   "outputs": [],
   "source": [
    "# Calculate the scores for Train Dataset\n",
    "train_r2_score = r2_score(y_train, y_train_pred)\n",
    "train_mse = mean_squared_error(y_train, y_train_pred)\n",
    "train_rmse = np.sqrt(train_mse)\n",
    "train_mae = mean_absolute_error(y_train, y_train_pred)\n",
    "\n",
    "# Calculate the scores for Test Dataset\n",
    "test_r2_score = r2_score(y_test, y_test_pred)\n",
    "test_mse = mean_squared_error(y_test, y_test_pred)\n",
    "test_rmse = np.sqrt(test_mse)\n",
    "test_mae = mean_absolute_error(y_test, y_test_pred)\n",
    "\n",
    "train_results = train_results._append({'Algorithm': 'Random Forest', 'Train R2 Score': train_r2_score, 'Train MSE': train_mse,\n",
    "                                       'Train RMSE': train_rmse, 'Train MAE': train_mae}, ignore_index=True)\n",
    "\n",
    "test_results = test_results._append({'Algorithm': 'Random Forest',  'Test R2 Score': test_r2_score,\n",
    "                                    'Test MSE': test_mse, 'Test RMSE': test_rmse, 'Test MAE': test_mae}, ignore_index=True)"
   ]
  },
  {
   "cell_type": "code",
   "execution_count": null,
   "id": "a0961dfb",
   "metadata": {},
   "outputs": [],
   "source": [
    "## XGBoosting"
   ]
  },
  {
   "cell_type": "code",
   "execution_count": null,
   "id": "488a3d29",
   "metadata": {},
   "outputs": [],
   "source": [
    "# Fit the XGBRegressor \n",
    "XGb = XGBRegressor(learning_rate=0.1, n_estimators=140, max_depth=5, min_child_weight=1, gamma=0, subsample=0.8, colsample_bytree=0.8, objective='reg:squarederror', nthread=4, scale_pos_weight=1, seed=27)"
   ]
  },
  {
   "cell_type": "code",
   "execution_count": null,
   "id": "983601ef",
   "metadata": {},
   "outputs": [],
   "source": [
    "XGb.fit(X_train_pca, y_train)"
   ]
  },
  {
   "cell_type": "code",
   "execution_count": null,
   "id": "a65bcc98",
   "metadata": {},
   "outputs": [],
   "source": [
    "# lets tune the hyper parameters\n",
    "param_t1 = {'max_depth':range(3,10,2), 'min_child_weight':range(1,6,2), 'gamma': [i/10.0 for i in range(0,5)], 'min_samples_leaf':range(30,71,10), 'max_features':range(5,50,5)}\n",
    "gsearch1 = GridSearchCV(estimator=XGBRegressor(learning_rate=0.1, n_estimators=140, gamma=0, subsample=0.8, objective='reg:squarederror', nthread=4, scale_pos_weight=1, seed=27), param_grid=param_t1, scoring='accuracy', n_jobs=4, cv=5)\n",
    "gsearch1.fit(X_train_pca, y_train)"
   ]
  },
  {
   "cell_type": "code",
   "execution_count": null,
   "id": "8038cb89",
   "metadata": {},
   "outputs": [],
   "source": [
    "# Check the score and n_estimators\n",
    "print(\"The best features: {}\".format(gsearch1.best_params_))\n",
    "print(\"The best score: {}\".format(gsearch1.best_score_))"
   ]
  },
  {
   "cell_type": "code",
   "execution_count": null,
   "id": "9c6187e7",
   "metadata": {},
   "outputs": [],
   "source": [
    "# Final model for Gradient Boosting\n",
    "XGb_final = XGBRegressor(learning_rate=0.1, n_estimators=140, max_features=, min_child_weight=, gamma=, max_depth=, min_samples_leaf=, subsample=0.8, colsample_bytree=, objective='reg:squarederror', nthread=4, scale_pos_weight=1, seed=27)\n",
    "XGb_final.fit(X_train_pca, y_train)"
   ]
  },
  {
   "cell_type": "code",
   "execution_count": null,
   "id": "3ee411ac",
   "metadata": {},
   "outputs": [],
   "source": [
    "# Predict the model with train set\n",
    "y_train_pred = XGb_final.predict(X_train_pca)"
   ]
  },
  {
   "cell_type": "code",
   "execution_count": null,
   "id": "ae1ae241",
   "metadata": {},
   "outputs": [],
   "source": [
    "# Predict the model with test set\n",
    "y_test_pred = XGb_final.predict(X_test_pca)"
   ]
  },
  {
   "cell_type": "code",
   "execution_count": null,
   "id": "cd8d7006",
   "metadata": {},
   "outputs": [],
   "source": [
    "# Calculate the scores for Train Dataset\n",
    "train_r2_score = r2_score(y_train, y_train_pred)\n",
    "train_mse = mean_squared_error(y_train, y_train_pred)\n",
    "train_rmse = np.sqrt(train_mse)\n",
    "train_mae = mean_absolute_error(y_train, y_train_pred)\n",
    "\n",
    "# Calculate the scores for Test Dataset\n",
    "test_r2_score = r2_score(y_test, y_test_pred)\n",
    "test_mse = mean_squared_error(y_test, y_test_pred)\n",
    "test_rmse = np.sqrt(test_mse)\n",
    "test_mae = mean_absolute_error(y_test, y_test_pred)\n",
    "\n",
    "train_results = train_results._append({'Algorithm': 'XGBoosting', 'Train R2 Score': train_r2_score, 'Train MSE': train_mse,\n",
    "                                       'Train RMSE': train_rmse, 'Train MAE': train_mae}, ignore_index=True)\n",
    "\n",
    "test_results = test_results._append({'Algorithm': 'XGBoosting',  'Test R2 Score': test_r2_score,\n",
    "                                    'Test MSE': test_mse, 'Test RMSE': test_rmse, 'Test MAE': test_mae}, ignore_index=True)"
   ]
  },
  {
   "cell_type": "code",
   "execution_count": null,
   "id": "6075b2e7",
   "metadata": {},
   "outputs": [],
   "source": [
    "## SVM"
   ]
  },
  {
   "cell_type": "code",
   "execution_count": null,
   "id": "4e8387b4",
   "metadata": {},
   "outputs": [],
   "source": [
    "sv = SVR(C=1, kernel='linear')\n",
    "sv.fit(X_train_pca, y_train)"
   ]
  },
  {
   "cell_type": "code",
   "execution_count": null,
   "id": "824359aa",
   "metadata": {},
   "outputs": [],
   "source": [
    "# Predict the model with train set\n",
    "y_train_pred = sv.predict(X_train_pca)"
   ]
  },
  {
   "cell_type": "code",
   "execution_count": null,
   "id": "7e15f9d3",
   "metadata": {},
   "outputs": [],
   "source": [
    "# Predict the model with test set\n",
    "y_test_pred = sv.predict(X_test_pca)"
   ]
  },
  {
   "cell_type": "code",
   "execution_count": null,
   "id": "9bcae893",
   "metadata": {},
   "outputs": [],
   "source": [
    "params = {\"C\": [0.1,1,10,100,1000]}\n",
    "svm = SVR(kernel='linear')\n",
    "\n",
    "model_cv= GridSearchCV(estimator=svm, param_grid=params, scoring='accuarcy', cv=5, verbose=1, n_jobs=4, return_train_score=True)\n",
    "model_cv.fit(X_train_pca, y_train)"
   ]
  },
  {
   "cell_type": "code",
   "execution_count": null,
   "id": "0c463bc3",
   "metadata": {},
   "outputs": [],
   "source": [
    "# Check the score\n",
    "print(\"The best params: {}\".format(model_cv.best_params_))\n",
    "print(\"The best score: {}\".format(model_cv.best_score_))"
   ]
  },
  {
   "cell_type": "code",
   "execution_count": null,
   "id": "e01498c6",
   "metadata": {},
   "outputs": [],
   "source": [
    "# Use C as  and run again\n",
    "sv_final = SVR(C=)\n",
    "sv_final.fit(X_train_pca, y_train)"
   ]
  },
  {
   "cell_type": "code",
   "execution_count": null,
   "id": "481bd63d",
   "metadata": {},
   "outputs": [],
   "source": [
    "# Predict the model with train set\n",
    "y_train_pred = sv_final(X_train_pca)"
   ]
  },
  {
   "cell_type": "code",
   "execution_count": null,
   "id": "a95db602",
   "metadata": {},
   "outputs": [],
   "source": [
    "# Predict the model with test set\n",
    "y_test_pred = sv_final(X_test_pca)"
   ]
  },
  {
   "cell_type": "code",
   "execution_count": null,
   "id": "e2af9966",
   "metadata": {},
   "outputs": [],
   "source": [
    "# Calculate the scores for Train Dataset\n",
    "train_r2_score = r2_score(y_train, y_train_pred)\n",
    "train_mse = mean_squared_error(y_train, y_train_pred)\n",
    "train_rmse = np.sqrt(train_mse)\n",
    "train_mae = mean_absolute_error(y_train, y_train_pred)\n",
    "\n",
    "# Calculate the scores for Test Dataset\n",
    "test_r2_score = r2_score(y_test, y_test_pred)\n",
    "test_mse = mean_squared_error(y_test, y_test_pred)\n",
    "test_rmse = np.sqrt(test_mse)\n",
    "test_mae = mean_absolute_error(y_test, y_test_pred)\n",
    "\n",
    "train_results = train_results._append({'Algorithm': 'SVM', 'Train R2 Score': train_r2_score, 'Train MSE': train_mse,\n",
    "                                       'Train RMSE': train_rmse, 'Train MAE': train_mae}, ignore_index=True)\n",
    "\n",
    "test_results = test_results._append({'Algorithm': 'SVM',  'Test R2 Score': test_r2_score,\n",
    "                                    'Test MSE': test_mse, 'Test RMSE': test_rmse, 'Test MAE': test_mae}, ignore_index=True)"
   ]
  },
  {
   "cell_type": "code",
   "execution_count": null,
   "id": "c1537f7e",
   "metadata": {},
   "outputs": [],
   "source": [
    "## LSTM"
   ]
  },
  {
   "cell_type": "code",
   "execution_count": null,
   "id": "5fd3830b",
   "metadata": {},
   "outputs": [],
   "source": [
    "ecom_num = ['ratings', 'no_of_ratings', 'actual_price_in_INR','discount_price_in_INR','selling_price_in_INR']"
   ]
  },
  {
   "cell_type": "code",
   "execution_count": null,
   "id": "1625db89",
   "metadata": {},
   "outputs": [],
   "source": [
    "data = ecom_data[ecom_num]"
   ]
  },
  {
   "cell_type": "code",
   "execution_count": null,
   "id": "87c96f25",
   "metadata": {},
   "outputs": [],
   "source": [
    "scaler = MinMaxScaler()\n",
    "ecom_data[['ratings', 'no_of_ratings', 'actual_price_in_INR','discount_price_in_INR','selling_price_in_INR']] = scaler.fit_transform(ecom_data[['ratings', 'no_of_ratings', 'actual_price_in_INR','discount_price_in_INR','selling_price_in_INR']])"
   ]
  },
  {
   "cell_type": "code",
   "execution_count": null,
   "id": "83397404",
   "metadata": {},
   "outputs": [],
   "source": [
    "\n",
    "\n",
    "# Preprocess the data\n",
    "scaler = MinMaxScaler(feature_range=(0, 1))\n",
    "data_scaled = scaler.fit_transform(ecom_data[['selling_price_in_INR']])\n",
    "\n",
    "# Create sequences for LSTM\n",
    "sequence_length = 10\n",
    "sequences = [data_scaled[i:i+sequence_length+1] for i in range(len(data_scaled)-sequence_length)]\n",
    "\n",
    "# Convert sequences to arrays\n",
    "sequences = np.array(sequences)\n",
    "\n",
    "# Split the data into features (X) and target variable (y)\n",
    "X = sequences[:, :-1]\n",
    "y = sequences[:, -1]\n",
    "\n",
    "# Split the data into training and testing sets\n",
    "X_train, X_test, y_train, y_test = train_test_split(X, y, test_size=0.2, random_state=42)\n",
    "\n",
    "# Reshape data for LSTM (assuming univariate time series)\n",
    "X_train = X_train.reshape((X_train.shape[0], X_train.shape[1], 1))\n",
    "X_test = X_test.reshape((X_test.shape[0], X_test.shape[1], 1))\n",
    "\n",
    "# Build the LSTM model\n",
    "model = Sequential()\n",
    "model.add(LSTM(50, activation='relu', input_shape=(X_train.shape[1], 1)))\n",
    "model.add(Dense(1))\n",
    "model.compile(optimizer='adam', loss='mse')\n",
    "\n",
    "# Train the model\n",
    "model.fit(X_train, y_train, epochs=50, batch_size=32, validation_data=(X_test, y_test), verbose=1)\n",
    "\n",
    "# Make predictions\n",
    "y_pred = model.predict(X_test)\n",
    "\n",
    "# Reverse scaling for both true and predicted values\n",
    "y_test = scaler.inverse_transform(y_test.reshape(-1, 1))\n",
    "y_pred = scaler.inverse_transform(y_pred)\n",
    "\n",
    "# Calculate R-squared (R2) score\n",
    "r2 = r2_score(y_test, y_pred)\n",
    "print(f'R-squared (R2) score: {r2:.4f}')\n"
   ]
  },
  {
   "cell_type": "code",
   "execution_count": null,
   "id": "ca5e82e9",
   "metadata": {},
   "outputs": [],
   "source": [
    "mse = mean_squared_error(y_test, y_pred)\n",
    "rmse = np.sqrt(mse)\n",
    "mae = mean_absolute_error(y_test, y_pred)"
   ]
  },
  {
   "cell_type": "code",
   "execution_count": null,
   "id": "5b1427f4",
   "metadata": {},
   "outputs": [],
   "source": [
    "print('MSE', mse)\n",
    "print('RMSE', rmse)\n",
    "print('MAE', mae)"
   ]
  },
  {
   "cell_type": "code",
   "execution_count": null,
   "id": "f81c3e81",
   "metadata": {},
   "outputs": [],
   "source": [
    "# Feed Forward Neural Networks"
   ]
  },
  {
   "cell_type": "code",
   "execution_count": null,
   "id": "6a675658",
   "metadata": {},
   "outputs": [],
   "source": [
    "fnn_model = Sequential()"
   ]
  },
  {
   "cell_type": "code",
   "execution_count": null,
   "id": "9579778e",
   "metadata": {},
   "outputs": [],
   "source": [
    "fnn_model.add(Dense(64, input_dim=X_train_pca.shape[1], activation='relu'))"
   ]
  },
  {
   "cell_type": "code",
   "execution_count": null,
   "id": "c65cae3b",
   "metadata": {},
   "outputs": [],
   "source": [
    "fnn_model.add(Dense(32, activation='relu'))"
   ]
  },
  {
   "cell_type": "code",
   "execution_count": null,
   "id": "3e131663",
   "metadata": {},
   "outputs": [],
   "source": [
    "fnn_model.add(Dense(1))"
   ]
  },
  {
   "cell_type": "code",
   "execution_count": null,
   "id": "00e0bcd5",
   "metadata": {},
   "outputs": [],
   "source": [
    "fnn_model.compile(optimizer='adam', loss='mean_squared_error')"
   ]
  },
  {
   "cell_type": "code",
   "execution_count": null,
   "id": "6b5f6aa5",
   "metadata": {},
   "outputs": [],
   "source": [
    "fnn_model.fit(X_train_pca, y_train, epochs=10, batch_size=32, validation_split=0.1)"
   ]
  },
  {
   "cell_type": "code",
   "execution_count": null,
   "id": "78277d5d",
   "metadata": {},
   "outputs": [],
   "source": [
    "fnn_predictions = fnn_model.predict(X_test_pca)\n",
    "fnn_mse = mean_squared_error(y_test, fnn_predictions)\n",
    "fnn_rmse = np.sqrt(fnn_mse)\n",
    "fnn_r2 = r2_score(y_test, fnn_predictions)\n",
    "fnn_mae = mean_absolute_error(y_test, fnn_predictions)\n",
    "print(f'FNN MSE: {fnn_mse}')\n",
    "print(f'FNN RMSE: {fnn_rmse}')\n",
    "print(f'FNN r2: {fnn_r2}')\n",
    "print(f'FNN MAE: {fnn_mae}')"
   ]
  },
  {
   "cell_type": "code",
   "execution_count": null,
   "id": "5a13c514",
   "metadata": {},
   "outputs": [],
   "source": []
  },
  {
   "cell_type": "code",
   "execution_count": null,
   "id": "e6ae3c9b",
   "metadata": {},
   "outputs": [],
   "source": []
  },
  {
   "cell_type": "code",
   "execution_count": null,
   "id": "33c72d56",
   "metadata": {},
   "outputs": [],
   "source": []
  },
  {
   "cell_type": "code",
   "execution_count": null,
   "id": "c83cf4ce",
   "metadata": {},
   "outputs": [],
   "source": []
  },
  {
   "cell_type": "code",
   "execution_count": null,
   "id": "57c49353",
   "metadata": {},
   "outputs": [],
   "source": []
  },
  {
   "cell_type": "code",
   "execution_count": null,
   "id": "9a800cd1",
   "metadata": {},
   "outputs": [],
   "source": []
  },
  {
   "cell_type": "code",
   "execution_count": null,
   "id": "07c5463b",
   "metadata": {},
   "outputs": [],
   "source": []
  },
  {
   "cell_type": "code",
   "execution_count": null,
   "id": "d7d77b64",
   "metadata": {},
   "outputs": [],
   "source": []
  },
  {
   "cell_type": "code",
   "execution_count": null,
   "id": "4e9422ff",
   "metadata": {},
   "outputs": [],
   "source": []
  }
 ],
 "metadata": {
  "kernelspec": {
   "display_name": "Python 3 (ipykernel)",
   "language": "python",
   "name": "python3"
  },
  "language_info": {
   "codemirror_mode": {
    "name": "ipython",
    "version": 3
   },
   "file_extension": ".py",
   "mimetype": "text/x-python",
   "name": "python",
   "nbconvert_exporter": "python",
   "pygments_lexer": "ipython3",
   "version": "3.11.5"
  }
 },
 "nbformat": 4,
 "nbformat_minor": 5
}
